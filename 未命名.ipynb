{
 "cells": [
  {
   "cell_type": "code",
   "execution_count": 1,
   "metadata": {},
   "outputs": [],
   "source": [
    "import pandas as pd"
   ]
  },
  {
   "cell_type": "code",
   "execution_count": 2,
   "metadata": {},
   "outputs": [],
   "source": [
    "data = pd.read_excel(\"data/出具虚假证明.xlsx\")"
   ]
  },
  {
   "cell_type": "code",
   "execution_count": 3,
   "metadata": {},
   "outputs": [
    {
     "data": {
      "text/html": [
       "<div>\n",
       "<style scoped>\n",
       "    .dataframe tbody tr th:only-of-type {\n",
       "        vertical-align: middle;\n",
       "    }\n",
       "\n",
       "    .dataframe tbody tr th {\n",
       "        vertical-align: top;\n",
       "    }\n",
       "\n",
       "    .dataframe thead th {\n",
       "        text-align: right;\n",
       "    }\n",
       "</style>\n",
       "<table border=\"1\" class=\"dataframe\">\n",
       "  <thead>\n",
       "    <tr style=\"text-align: right;\">\n",
       "      <th></th>\n",
       "      <th>company</th>\n",
       "      <th>institution</th>\n",
       "      <th>entities</th>\n",
       "      <th>all_triger</th>\n",
       "      <th>event_type</th>\n",
       "      <th>text</th>\n",
       "      <th>event_type_entity</th>\n",
       "      <th>flag</th>\n",
       "      <th>other_event_type_entity</th>\n",
       "    </tr>\n",
       "  </thead>\n",
       "  <tbody>\n",
       "    <tr>\n",
       "      <th>0</th>\n",
       "      <td>民生证券太原长风街营业部 泛海控股</td>\n",
       "      <td>NaN</td>\n",
       "      <td>民生证券太原长风街营业部 泛海控股</td>\n",
       "      <td>伪造_印章</td>\n",
       "      <td>出具虚假证明</td>\n",
       "      <td>泛海控股(000046,股吧)昨天公告称，因控股子公司民生证券太原长风街营业部原总经理许静涉...</td>\n",
       "      <td>NaN</td>\n",
       "      <td>0.0</td>\n",
       "      <td>NaN</td>\n",
       "    </tr>\n",
       "    <tr>\n",
       "      <th>1</th>\n",
       "      <td>江苏银行 宁波银行</td>\n",
       "      <td>NaN</td>\n",
       "      <td>江苏银行 宁波银行</td>\n",
       "      <td>伪造</td>\n",
       "      <td>出具虚假证明</td>\n",
       "      <td>一名刘永盛项目的投资人对《第一财经日报》表示，在从宁波银行辞职、即将加入江苏银行的空档期里，...</td>\n",
       "      <td>NaN</td>\n",
       "      <td>0.0</td>\n",
       "      <td>NaN</td>\n",
       "    </tr>\n",
       "    <tr>\n",
       "      <th>2</th>\n",
       "      <td>北大荒 北大荒鑫亚</td>\n",
       "      <td>NaN</td>\n",
       "      <td>北大荒 北大荒鑫亚</td>\n",
       "      <td>伪造_合同</td>\n",
       "      <td>出具虚假证明</td>\n",
       "      <td>据证监会行政处罚决定书，北大荒主要存在以下两个违法事实，都体现在子公司北大荒鑫亚身上，第一是...</td>\n",
       "      <td>NaN</td>\n",
       "      <td>0.0</td>\n",
       "      <td>NaN</td>\n",
       "    </tr>\n",
       "    <tr>\n",
       "      <th>3</th>\n",
       "      <td>欣泰电气</td>\n",
       "      <td>NaN</td>\n",
       "      <td>欣泰电气</td>\n",
       "      <td>伪造_现金流</td>\n",
       "      <td>出具虚假证明</td>\n",
       "      <td>“欣泰电气造假是对现金流的伪造，按说是比较容易核查出来的，查不出说明券商内控制度不完善，态度不认真</td>\n",
       "      <td>NaN</td>\n",
       "      <td>0.0</td>\n",
       "      <td>NaN</td>\n",
       "    </tr>\n",
       "    <tr>\n",
       "      <th>4</th>\n",
       "      <td>金盾集团 金盾股份</td>\n",
       "      <td>NaN</td>\n",
       "      <td>金盾集团 金盾股份</td>\n",
       "      <td>伪造_印章</td>\n",
       "      <td>出具虚假证明</td>\n",
       "      <td>金盾股份所有被诉案件经公安机关侦查都涉及金盾集团原董事长周建灿、金盾集团原财务投资部负责人张...</td>\n",
       "      <td>NaN</td>\n",
       "      <td>0.0</td>\n",
       "      <td>NaN</td>\n",
       "    </tr>\n",
       "  </tbody>\n",
       "</table>\n",
       "</div>"
      ],
      "text/plain": [
       "              company institution            entities all_triger event_type  \\\n",
       "0  民生证券太原长风街营业部 泛海控股          NaN  民生证券太原长风街营业部 泛海控股       伪造_印章    出具虚假证明    \n",
       "1           江苏银行 宁波银行         NaN          江苏银行 宁波银行          伪造    出具虚假证明    \n",
       "2           北大荒 北大荒鑫亚         NaN           北大荒 北大荒鑫亚      伪造_合同    出具虚假证明    \n",
       "3                欣泰电气         NaN               欣泰电气      伪造_现金流    出具虚假证明    \n",
       "4           金盾集团 金盾股份         NaN          金盾集团 金盾股份       伪造_印章    出具虚假证明    \n",
       "\n",
       "                                                text event_type_entity  flag  \\\n",
       "0  泛海控股(000046,股吧)昨天公告称，因控股子公司民生证券太原长风街营业部原总经理许静涉...               NaN   0.0   \n",
       "1  一名刘永盛项目的投资人对《第一财经日报》表示，在从宁波银行辞职、即将加入江苏银行的空档期里，...               NaN   0.0   \n",
       "2  据证监会行政处罚决定书，北大荒主要存在以下两个违法事实，都体现在子公司北大荒鑫亚身上，第一是...               NaN   0.0   \n",
       "3  “欣泰电气造假是对现金流的伪造，按说是比较容易核查出来的，查不出说明券商内控制度不完善，态度不认真               NaN   0.0   \n",
       "4  金盾股份所有被诉案件经公安机关侦查都涉及金盾集团原董事长周建灿、金盾集团原财务投资部负责人张...               NaN   0.0   \n",
       "\n",
       "  other_event_type_entity  \n",
       "0                     NaN  \n",
       "1                     NaN  \n",
       "2                     NaN  \n",
       "3                     NaN  \n",
       "4                     NaN  "
      ]
     },
     "execution_count": 3,
     "metadata": {},
     "output_type": "execute_result"
    }
   ],
   "source": [
    "data.head()"
   ]
  },
  {
   "cell_type": "code",
   "execution_count": 4,
   "metadata": {},
   "outputs": [
    {
     "data": {
      "text/plain": [
       "'泛海控股(000046,股吧)昨天公告称，因控股子公司民生证券太原长风街营业部原总经理许静涉嫌伪造印章、合同诈骗等犯罪事项，公司于近日收到民生证券转来的证监会方面签发的通报批评函'"
      ]
     },
     "execution_count": 4,
     "metadata": {},
     "output_type": "execute_result"
    }
   ],
   "source": [
    "data['text'][0]"
   ]
  },
  {
   "cell_type": "code",
   "execution_count": 9,
   "metadata": {},
   "outputs": [],
   "source": [
    "with open(\"data/出具虚假证明.txt\",\"w\",encoding=\"utf-8\") as f:\n",
    "    for index in range(len(data)):\n",
    "        #f.write(data['cau'][index]+\"###\"+data['eff'][index]+\"\\n\")\n",
    "        f.write(data['text'][index]+\"###\"+ str(data['company'][index]) +\"\\n\")"
   ]
  },
  {
   "cell_type": "code",
   "execution_count": 11,
   "metadata": {},
   "outputs": [],
   "source": [
    "fre_dict = {}\n",
    "fre_dict['1'] = 2\n",
    "fre_dict['2'] = 0\n",
    "fre_dict['3'] = 4"
   ]
  },
  {
   "cell_type": "code",
   "execution_count": 12,
   "metadata": {},
   "outputs": [
    {
     "name": "stdout",
     "output_type": "stream",
     "text": [
      "[('3', 4), ('1', 2), ('2', 0)]\n"
     ]
    }
   ],
   "source": [
    "fre_dict = sorted(fre_dict.items(), key=lambda x: x[1], reverse=True)\n",
    "print(fre_dict)"
   ]
  },
  {
   "cell_type": "code",
   "execution_count": 13,
   "metadata": {},
   "outputs": [
    {
     "data": {
      "text/plain": [
       "list"
      ]
     },
     "execution_count": 13,
     "metadata": {},
     "output_type": "execute_result"
    }
   ],
   "source": [
    "type(fre_dict)"
   ]
  },
  {
   "cell_type": "code",
   "execution_count": 1,
   "metadata": {},
   "outputs": [],
   "source": [
    "import os\n",
    "import re\n",
    "import codecs"
   ]
  },
  {
   "cell_type": "code",
   "execution_count": 2,
   "metadata": {},
   "outputs": [],
   "source": [
    "from bert import tokenization"
   ]
  },
  {
   "cell_type": "code",
   "execution_count": 3,
   "metadata": {},
   "outputs": [],
   "source": [
    "from deep_model.utils import convert_single_example"
   ]
  },
  {
   "cell_type": "code",
   "execution_count": null,
   "metadata": {},
   "outputs": [
    {
     "name": "stdout",
     "output_type": "stream",
     "text": [
      "WARNING:tensorflow:From C:\\ProgramData\\Anaconda3\\lib\\site-packages\\bert\\tokenization.py:125: The name tf.gfile.GFile is deprecated. Please use tf.io.gfile.GFile instead.\n",
      "\n"
     ]
    }
   ],
   "source": [
    "tokenizer = tokenization.FullTokenizer(vocab_file='deep_model/chinese_L-12_H-768_A-12/vocab.txt',\n",
    "                                       do_lower_case=True)"
   ]
  },
  {
   "cell_type": "code",
   "execution_count": null,
   "metadata": {},
   "outputs": [],
   "source": []
  }
 ],
 "metadata": {
  "kernelspec": {
   "display_name": "Python 3",
   "language": "python",
   "name": "python3"
  },
  "language_info": {
   "codemirror_mode": {
    "name": "ipython",
    "version": 3
   },
   "file_extension": ".py",
   "mimetype": "text/x-python",
   "name": "python",
   "nbconvert_exporter": "python",
   "pygments_lexer": "ipython3",
   "version": "3.6.8"
  }
 },
 "nbformat": 4,
 "nbformat_minor": 4
}
